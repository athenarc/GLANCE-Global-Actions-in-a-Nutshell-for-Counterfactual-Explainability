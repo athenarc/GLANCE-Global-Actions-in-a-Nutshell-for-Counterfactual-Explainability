{
 "cells": [
  {
   "cell_type": "markdown",
   "id": "8eabdbf4",
   "metadata": {},
   "source": [
    "## GLANCE: Global Actions In A Nutshell for Counterfactual Explainability\n",
    "\n",
    "**GLANCE** is a versatile and adaptive framework for generating *global counterfactual explanations*. <br>\n",
    "These explanations are expressed as actions that offer recourse to large population subgroups.<br> The framework aims to provide explanations and insights, ensuring that the actions benefit as many individuals as possible."
   ]
  },
  {
   "cell_type": "markdown",
   "id": "3925fc89",
   "metadata": {},
   "source": [
    "## Preliminaries\n",
    "\n",
    "### Import Dependencies \n",
    "As usual in python, the first step is to import all necessary packages.\n",
    "\n"
   ]
  },
  {
   "cell_type": "code",
   "execution_count": 1,
   "id": "d1321eb1",
   "metadata": {},
   "outputs": [],
   "source": [
    "from xgboost import XGBClassifier\n",
    "import pandas as pd\n",
    "from glance.glance.glance import GLANCE\n",
    "from utils import load_models, preprocess_datasets_kfold"
   ]
  },
  {
   "cell_type": "markdown",
   "id": "d4c7385c",
   "metadata": {},
   "source": [
    "## Load Data and Model to be used for explanations\n",
    "This will serve as the demonstrative model, which we will then treat as a black box and apply our algorithm.\n",
    "Of course, any model can be used in its place.\n",
    "\n"
   ]
  },
  {
   "cell_type": "code",
   "execution_count": 2,
   "id": "5d338687",
   "metadata": {},
   "outputs": [
    {
     "name": "stdout",
     "output_type": "stream",
     "text": [
      "Kfold for dataset adult\n",
      "Creating fold 1:\n",
      "\tAccuracy: 86.57%\n",
      "Creating fold 2:\n",
      "\tAccuracy: 86.69%\n",
      "Creating fold 3:\n",
      "\tAccuracy: 86.80%\n",
      "Creating fold 4:\n",
      "\tAccuracy: 86.29%\n",
      "Creating fold 5:\n",
      "\tAccuracy: 86.77%\n"
     ]
    }
   ],
   "source": [
    "dataset = \"adult\"\n",
    "model_name = \"xgb\"\n",
    "\n",
    "data, affected_list, unaffected_list, model_list, train_dataset_list, feat_to_vary, target_name, num_features, cate_features = (\n",
    "    preprocess_datasets_kfold(dataset, load_models(dataset, model_name), model_name)\n",
    ")"
   ]
  },
  {
   "cell_type": "markdown",
   "id": "7d3a64f2",
   "metadata": {},
   "source": [
    "## GLANCE \n",
    "GLANCE is a clustering-based algorithm designed to generate global counterfactual explanations. <br>It starts by forming initial clusters and gradually merges them until the number of clusters matches the user-defined final_clusters parameter.<br> From each of these final clusters, the best action is selected, and together, these actions form the global explanation.\n",
    "\n",
    "GLANCE framework is loaded with:\n",
    " - the model to be explained\n",
    " - number of initial clusters, \n",
    " - number of final clusters, from each of which the best action is extracted\n",
    " - number of local counterfactuals, that the Local Counterfactual Method generates for each centroid of the initial clusters\n",
    "\n",
    " GLANCE algorithm allows the users to specify the number of global actions generated and serves as a tool to explain and debug ML models."
   ]
  },
  {
   "cell_type": "code",
   "execution_count": 3,
   "id": "41afb9f3",
   "metadata": {},
   "outputs": [
    {
     "data": {
      "text/plain": [
       "<glance.glance.glance.GLANCE at 0x30b69c040>"
      ]
     },
     "execution_count": 3,
     "metadata": {},
     "output_type": "execute_result"
    }
   ],
   "source": [
    "global_method = GLANCE(\n",
    "    model_list[0],\n",
    "    initial_clusters=100,\n",
    "    final_clusters=3,\n",
    "    num_local_counterfactuals=10,\n",
    ")\n",
    "global_method.fit(\n",
    "    data.drop(columns=[\"Status\"]),\n",
    "    data[\"Status\"],\n",
    "    train_dataset_list[0],\n",
    "    feat_to_vary,\n",
    ")"
   ]
  },
  {
   "cell_type": "code",
   "execution_count": 4,
   "id": "5ade6e07",
   "metadata": {},
   "outputs": [
    {
     "name": "stderr",
     "output_type": "stream",
     "text": [
      "100%|██████████| 1/1 [00:00<00:00, 17.84it/s]\n",
      "100%|██████████| 1/1 [00:00<00:00, 13.76it/s]\n",
      "100%|██████████| 1/1 [00:00<00:00, 19.02it/s]\n",
      "100%|██████████| 1/1 [00:00<00:00, 17.86it/s]\n",
      "100%|██████████| 1/1 [00:00<00:00, 17.79it/s]\n",
      "100%|██████████| 1/1 [00:00<00:00, 18.74it/s]\n",
      "100%|██████████| 1/1 [00:00<00:00, 12.83it/s]\n",
      "100%|██████████| 1/1 [00:00<00:00, 17.70it/s]\n",
      "100%|██████████| 1/1 [00:00<00:00, 18.50it/s]\n",
      "100%|██████████| 1/1 [00:00<00:00, 18.73it/s]\n",
      "100%|██████████| 1/1 [00:00<00:00, 18.75it/s]\n",
      "100%|██████████| 1/1 [00:00<00:00, 18.89it/s]\n",
      "100%|██████████| 1/1 [00:00<00:00, 17.82it/s]\n",
      "100%|██████████| 1/1 [00:00<00:00, 19.92it/s]\n",
      "100%|██████████| 1/1 [00:00<00:00, 17.90it/s]\n",
      "100%|██████████| 1/1 [00:00<00:00, 18.43it/s]\n",
      "100%|██████████| 1/1 [00:00<00:00, 19.37it/s]\n",
      "100%|██████████| 1/1 [00:00<00:00, 13.62it/s]\n",
      "100%|██████████| 1/1 [00:00<00:00, 18.04it/s]\n",
      "100%|██████████| 1/1 [00:00<00:00, 18.03it/s]\n",
      "100%|██████████| 1/1 [00:00<00:00, 17.98it/s]\n",
      "100%|██████████| 1/1 [00:00<00:00, 17.77it/s]\n",
      "100%|██████████| 1/1 [00:00<00:00, 18.21it/s]\n",
      "100%|██████████| 1/1 [00:00<00:00, 18.81it/s]\n",
      "100%|██████████| 1/1 [00:00<00:00, 17.16it/s]\n",
      "100%|██████████| 1/1 [00:00<00:00, 18.86it/s]\n",
      "100%|██████████| 1/1 [00:00<00:00, 18.60it/s]\n",
      "100%|██████████| 1/1 [00:00<00:00, 18.39it/s]\n",
      "100%|██████████| 1/1 [00:00<00:00,  7.99it/s]\n",
      "100%|██████████| 1/1 [00:00<00:00, 12.68it/s]\n",
      "100%|██████████| 1/1 [00:00<00:00, 15.77it/s]\n",
      "100%|██████████| 1/1 [00:00<00:00, 12.00it/s]\n",
      "100%|██████████| 1/1 [00:00<00:00, 17.59it/s]\n",
      "100%|██████████| 1/1 [00:00<00:00, 18.51it/s]\n",
      "100%|██████████| 1/1 [00:00<00:00, 18.59it/s]\n",
      "100%|██████████| 1/1 [00:00<00:00, 18.87it/s]\n",
      "100%|██████████| 1/1 [00:00<00:00, 18.71it/s]\n",
      "100%|██████████| 1/1 [00:00<00:00, 15.71it/s]\n",
      "100%|██████████| 1/1 [00:00<00:00,  6.68it/s]\n",
      "100%|██████████| 1/1 [00:00<00:00, 17.95it/s]\n",
      "100%|██████████| 1/1 [00:00<00:00, 18.59it/s]\n",
      "100%|██████████| 1/1 [00:00<00:00, 16.07it/s]\n",
      "100%|██████████| 1/1 [00:00<00:00, 17.59it/s]\n",
      "100%|██████████| 1/1 [00:00<00:00, 11.74it/s]\n",
      "100%|██████████| 1/1 [00:00<00:00, 16.47it/s]\n",
      "100%|██████████| 1/1 [00:00<00:00, 17.69it/s]\n",
      "100%|██████████| 1/1 [00:00<00:00, 16.07it/s]\n",
      "100%|██████████| 1/1 [00:00<00:00, 17.28it/s]\n",
      "100%|██████████| 1/1 [00:00<00:00, 16.40it/s]\n",
      "100%|██████████| 1/1 [00:00<00:00, 16.41it/s]\n",
      "100%|██████████| 1/1 [00:00<00:00, 17.76it/s]\n",
      "100%|██████████| 1/1 [00:00<00:00, 17.85it/s]\n",
      "100%|██████████| 1/1 [00:00<00:00, 15.94it/s]\n",
      "100%|██████████| 1/1 [00:00<00:00, 12.01it/s]\n",
      "100%|██████████| 1/1 [00:00<00:00, 17.18it/s]\n",
      "100%|██████████| 1/1 [00:00<00:00, 17.16it/s]\n",
      "100%|██████████| 1/1 [00:00<00:00, 16.67it/s]\n",
      "100%|██████████| 1/1 [00:00<00:00, 18.18it/s]\n",
      "100%|██████████| 1/1 [00:00<00:00, 16.62it/s]\n",
      "100%|██████████| 1/1 [00:00<00:00, 17.14it/s]\n",
      "100%|██████████| 1/1 [00:00<00:00, 16.83it/s]\n",
      "100%|██████████| 1/1 [00:00<00:00, 18.10it/s]\n",
      "100%|██████████| 1/1 [00:00<00:00, 17.76it/s]\n",
      "100%|██████████| 1/1 [00:00<00:00, 13.69it/s]\n",
      "100%|██████████| 1/1 [00:00<00:00, 18.65it/s]\n",
      "100%|██████████| 1/1 [00:00<00:00, 18.19it/s]\n",
      "100%|██████████| 1/1 [00:00<00:00, 18.66it/s]\n",
      "100%|██████████| 1/1 [00:00<00:00, 16.77it/s]\n",
      "100%|██████████| 1/1 [00:00<00:00, 17.99it/s]\n",
      "100%|██████████| 1/1 [00:00<00:00, 15.76it/s]\n",
      "100%|██████████| 1/1 [00:00<00:00, 16.08it/s]\n",
      "100%|██████████| 1/1 [00:00<00:00, 14.04it/s]\n",
      "100%|██████████| 1/1 [00:00<00:00, 18.22it/s]\n",
      "100%|██████████| 1/1 [00:00<00:00, 17.40it/s]\n",
      "100%|██████████| 1/1 [00:00<00:00, 18.95it/s]\n",
      "100%|██████████| 1/1 [00:00<00:00, 10.55it/s]\n",
      "100%|██████████| 1/1 [00:00<00:00, 19.06it/s]\n",
      "100%|██████████| 1/1 [00:00<00:00, 18.32it/s]\n",
      "100%|██████████| 1/1 [00:00<00:00, 19.02it/s]\n",
      "100%|██████████| 1/1 [00:00<00:00, 17.74it/s]\n",
      "100%|██████████| 1/1 [00:00<00:00, 18.23it/s]\n",
      "100%|██████████| 1/1 [00:00<00:00, 18.56it/s]\n",
      "100%|██████████| 1/1 [00:00<00:00, 17.37it/s]\n",
      "100%|██████████| 1/1 [00:00<00:00, 18.82it/s]\n",
      "100%|██████████| 1/1 [00:00<00:00, 17.78it/s]\n",
      "100%|██████████| 1/1 [00:00<00:00, 17.36it/s]\n",
      "100%|██████████| 1/1 [00:00<00:00, 17.04it/s]\n",
      "100%|██████████| 1/1 [00:00<00:00, 15.41it/s]\n",
      "100%|██████████| 1/1 [00:00<00:00, 15.63it/s]\n",
      "100%|██████████| 1/1 [00:00<00:00, 14.74it/s]\n",
      "100%|██████████| 1/1 [00:00<00:00, 12.65it/s]\n",
      "100%|██████████| 1/1 [00:00<00:00, 17.25it/s]\n",
      "100%|██████████| 1/1 [00:00<00:00, 18.59it/s]\n",
      "100%|██████████| 1/1 [00:00<00:00, 18.84it/s]\n",
      "100%|██████████| 1/1 [00:00<00:00, 17.94it/s]\n",
      "100%|██████████| 1/1 [00:00<00:00, 18.23it/s]\n",
      "100%|██████████| 1/1 [00:00<00:00, 18.15it/s]\n",
      "100%|██████████| 1/1 [00:00<00:00, 17.74it/s]\n",
      "100%|██████████| 1/1 [00:00<00:00, 18.96it/s]\n",
      "100%|██████████| 1/1 [00:00<00:00, 18.93it/s]\n",
      "100%|██████████| 360/360 [00:02<00:00, 171.91it/s]\n",
      "100%|██████████| 340/340 [00:03<00:00, 107.68it/s]\n",
      "100%|██████████| 300/300 [00:02<00:00, 107.82it/s]\n"
     ]
    },
    {
     "name": "stdout",
     "output_type": "stream",
     "text": [
      "\u001b[1mAction 1 \n",
      "\u001b[0m\u001b[1mAge\u001b[0m +\u001b[31m7.0\u001b[39m \n",
      "\u001b[1mCapital-Gain\u001b[0m +\u001b[31m30064.6\u001b[39m \n",
      "\n",
      "\u001b[1mEffectiveness:\u001b[0m \u001b[32m100.00%\u001b[39m\t\u001b[1mCost:\u001b[0m \u001b[35m3.97\u001b[39m\n",
      "\n",
      "\n",
      "\u001b[1mAction 2 \n",
      "\u001b[0m\u001b[1mCapital-Gain\u001b[0m +\u001b[31m91826.2268292683\u001b[39m \n",
      "\u001b[1mHours-Per-Week\u001b[0m +\u001b[31m51.36829268292682\u001b[39m \n",
      "\n",
      "\u001b[1mEffectiveness:\u001b[0m \u001b[32m98.86%\u001b[39m\t\u001b[1mCost:\u001b[0m \u001b[35m14.39\u001b[39m\n",
      "\n",
      "\n",
      "\u001b[1mAction 3 \n",
      "\u001b[0m\u001b[1mCapital-Gain\u001b[0m +\u001b[31m56312.71940298507\u001b[39m \n",
      "\u001b[1mCapital-Loss\u001b[0m +\u001b[31m2410.9582089552237\u001b[39m \n",
      "\n",
      "\u001b[1mEffectiveness:\u001b[0m \u001b[32m99.69%\u001b[39m\t\u001b[1mCost:\u001b[0m \u001b[35m11.16\u001b[39m\n",
      "\n",
      "\n",
      "\u001b[1mTOTAL EFFECTIVENESS:\u001b[0m \u001b[32m99.96%\u001b[39m\n",
      "\u001b[1mTOTAL COST:\u001b[0m \u001b[35m3.98\u001b[39m\n"
     ]
    }
   ],
   "source": [
    "eff, cost,clusters, clusters_res, chosen_actions, final_costs = global_method.explain_group(affected_list[0])"
   ]
  },
  {
   "cell_type": "markdown",
   "id": "44296923",
   "metadata": {},
   "source": [
    "## GLANCE Output\n",
    "GLANCE generates a set of final actions, with a focus on their overall impact when applied to the entire affected population. While each action is initially associated with a specific cluster, the key metrics we prioritize are the *Total Effectiveness* and *Total Cost* across the whole population.\n",
    "\n",
    "- *Total Effectiveness* is the percentage of individuals that achieve the favorable outcome, if each one of the final actions is applied to the whole affected population.<br>\n",
    "- *Total Cost* is calculated as the mean recourse cost of the whole set of final actions over the entire population.\n",
    "\n",
    "Additionally, for each generated action the suggested changes are also reported, as well as the *effectiveness* and *cost* they achieve on the population of the cluster they were extracted from. More specifically:\n",
    "\n",
    "- *Effectiveness*, for each cluster-action pair ($C$, $a$), represents the percentage of individuals in $C$ who get the favorable outcome when the action $a$ is applied.\n",
    "<br>\n",
    "- *Cost*, for each cluster-action pair ($C$, $a$), is the mean recourse cost computed when the action $a$ is applied to the individuals of cluster $C$.\n",
    "<br>"
   ]
  },
  {
   "cell_type": "markdown",
   "id": "fdea33df",
   "metadata": {},
   "source": [
    "## GLANCE Modularity\n",
    "Our framework is highly **modular**, allowing users to customize various aspects of it. <br>\n",
    "\n",
    "Specifically:\n",
    "- **Choice of Local Counterfactual Methods**: Users can select from a variety of local counterfactual methods to generate candidate counterfactual explanations, such as:\n",
    "    - **NearestNeighbors**: When queried to provide *k* counterfactuals for an affected individual, it retrieves the k nearest neighbors from the set of unaffected instances based on their proximity to the affected individual.\n",
    "    - **Random Sampling**: To find counterfactuals for an affected instance, this method iteratively modifies its features one at a time. The process begins by randomly altering one feature at a time, generating multiple new candidate instances\n",
    "\n",
    "- **Strategy for Selecting Actions**: Additionally, users can choose different strategies for selecting the best actions from the generated counterfactuals. This enables fine-tuning of the process, allowing for the optimal balance between effectiveness and recourse cost, based on user-defined preferences.\n",
    "    - **max-eff** : Selects actions based on maximizing the effectiveness.\n",
    "    - **low-cost** : Selects the action with the lowest cost that flips a sufficient number of instances.\n",
    "    - **mean-act** : Selects the mean action from a set of candidate actions.\n",
    "\n",
    "In order to use them, the user should provide the **fit** method with the **cf_generator** and **cluster_action_choice_algo** variables and choose the methods of his/hers liking."
   ]
  },
  {
   "cell_type": "code",
   "execution_count": 5,
   "id": "ce2cfa20",
   "metadata": {},
   "outputs": [
    {
     "data": {
      "text/plain": [
       "<glance.glance.glance.GLANCE at 0x307c2d150>"
      ]
     },
     "execution_count": 5,
     "metadata": {},
     "output_type": "execute_result"
    }
   ],
   "source": [
    "global_method = GLANCE(\n",
    "    model_list[0], initial_clusters=100, final_clusters=3, num_local_counterfactuals=10\n",
    ")\n",
    "global_method.fit(\n",
    "    data.drop(columns=[\"Status\"]),\n",
    "    data[\"Status\"],\n",
    "    train_dataset_list[0],\n",
    "    feat_to_vary,\n",
    "    cf_generator=\"NearestNeighbors\",\n",
    ")"
   ]
  },
  {
   "cell_type": "code",
   "execution_count": 6,
   "id": "70181366",
   "metadata": {},
   "outputs": [
    {
     "name": "stderr",
     "output_type": "stream",
     "text": [
      "100%|██████████| 300/300 [00:04<00:00, 68.65it/s]\n",
      "100%|██████████| 230/230 [00:02<00:00, 113.74it/s]\n",
      "100%|██████████| 470/470 [00:03<00:00, 123.50it/s]\n"
     ]
    },
    {
     "name": "stdout",
     "output_type": "stream",
     "text": [
      "\u001b[1mAction 1 \n",
      "\u001b[0m\u001b[1mAge\u001b[0m +\u001b[31m19.112149532710283\u001b[39m \n",
      "\u001b[1mWorkclass\u001b[0m = \u001b[31mFederal-gov\u001b[39m \n",
      "\u001b[1mFnlwgt\u001b[0m \u001b[31m-35.495327102806186\u001b[39m \n",
      "\u001b[1mEducation\u001b[0m = \u001b[31mDoctorate\u001b[39m \n",
      "\u001b[1mMarital-Status\u001b[0m = \u001b[31mMarried-civ-spouse\u001b[39m \n",
      "\u001b[1mOccupation\u001b[0m = \u001b[31mProf-specialty\u001b[39m \n",
      "\u001b[1mRelationship\u001b[0m = \u001b[31mHusband\u001b[39m \n",
      "\u001b[1mCapital-Gain\u001b[0m \u001b[31m-103.95327102803738\u001b[39m \n",
      "\u001b[1mCapital-Loss\u001b[0m \u001b[31m-22.8411214953271\u001b[39m \n",
      "\u001b[1mHours-Per-Week\u001b[0m +\u001b[31m2.233644859813083\u001b[39m \n",
      "\n",
      "\u001b[1mEffectiveness:\u001b[0m \u001b[32m92.43%\u001b[39m\t\u001b[1mCost:\u001b[0m \u001b[35m7.13\u001b[39m\n",
      "\n",
      "\n",
      "\u001b[1mAction 2 \n",
      "\u001b[0m\u001b[1mAge\u001b[0m +\u001b[31m10.897058823529413\u001b[39m \n",
      "\u001b[1mFnlwgt\u001b[0m \u001b[31m-42.897058823524276\u001b[39m \n",
      "\u001b[1mEducation\u001b[0m = \u001b[31mBachelors\u001b[39m \n",
      "\u001b[1mMarital-Status\u001b[0m = \u001b[31mMarried-civ-spouse\u001b[39m \n",
      "\u001b[1mOccupation\u001b[0m = \u001b[31mExec-managerial\u001b[39m \n",
      "\u001b[1mRelationship\u001b[0m = \u001b[31mHusband\u001b[39m \n",
      "\u001b[1mCapital-Gain\u001b[0m \u001b[31m-15.970588235294118\u001b[39m \n",
      "\u001b[1mCapital-Loss\u001b[0m \u001b[31m-81.94117647058823\u001b[39m \n",
      "\u001b[1mHours-Per-Week\u001b[0m +\u001b[31m24.0\u001b[39m \n",
      "\n",
      "\u001b[1mEffectiveness:\u001b[0m \u001b[32m81.58%\u001b[39m\t\u001b[1mCost:\u001b[0m \u001b[35m7.15\u001b[39m\n",
      "\n",
      "\n",
      "\u001b[1mAction 3 \n",
      "\u001b[0m\u001b[1mAge\u001b[0m +\u001b[31m7.25\u001b[39m \n",
      "\u001b[1mWorkclass\u001b[0m = \u001b[31mSelf-emp-inc\u001b[39m \n",
      "\u001b[1mFnlwgt\u001b[0m \u001b[31m-13390.25\u001b[39m \n",
      "\u001b[1mMarital-Status\u001b[0m = \u001b[31mMarried-civ-spouse\u001b[39m \n",
      "\u001b[1mOccupation\u001b[0m = \u001b[31mCraft-repair\u001b[39m \n",
      "\u001b[1mRelationship\u001b[0m = \u001b[31mHusband\u001b[39m \n",
      "\u001b[1mCapital-Gain\u001b[0m +\u001b[31m5178.0\u001b[39m \n",
      "\u001b[1mHours-Per-Week\u001b[0m +\u001b[31m10.5\u001b[39m \n",
      "\n",
      "\u001b[1mEffectiveness:\u001b[0m \u001b[32m100.00%\u001b[39m\t\u001b[1mCost:\u001b[0m \u001b[35m5.82\u001b[39m\n",
      "\n",
      "\n",
      "\u001b[1mTOTAL EFFECTIVENESS:\u001b[0m \u001b[32m99.94%\u001b[39m\n",
      "\u001b[1mTOTAL COST:\u001b[0m \u001b[35m5.74\u001b[39m\n"
     ]
    }
   ],
   "source": [
    "eff, cost,clusters, clusters_res, chosen_actions, final_costs = global_method.explain_group(affected_list[0])"
   ]
  }
 ],
 "metadata": {
  "kernelspec": {
   "display_name": "glance",
   "language": "python",
   "name": "python3"
  },
  "language_info": {
   "codemirror_mode": {
    "name": "ipython",
    "version": 3
   },
   "file_extension": ".py",
   "mimetype": "text/x-python",
   "name": "python",
   "nbconvert_exporter": "python",
   "pygments_lexer": "ipython3",
   "version": "3.10.4"
  }
 },
 "nbformat": 4,
 "nbformat_minor": 5
}
